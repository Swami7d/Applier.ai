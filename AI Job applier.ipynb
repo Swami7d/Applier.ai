{
 "cells": [
  {
   "cell_type": "code",
   "execution_count": 3,
   "id": "a85dcec7-c863-4f75-acaf-8bb1eed4287c",
   "metadata": {},
   "outputs": [
    {
     "name": "stdout",
     "output_type": "stream",
     "text": [
      "Requirement already satisfied: selenium in c:\\users\\hp\\appdata\\local\\programs\\python\\python312\\lib\\site-packages (4.32.0)\n",
      "Requirement already satisfied: urllib3<3,>=1.26 in c:\\users\\hp\\appdata\\local\\programs\\python\\python312\\lib\\site-packages (from urllib3[socks]<3,>=1.26->selenium) (2.2.2)\n",
      "Requirement already satisfied: trio~=0.17 in c:\\users\\hp\\appdata\\local\\programs\\python\\python312\\lib\\site-packages (from selenium) (0.30.0)\n",
      "Requirement already satisfied: trio-websocket~=0.9 in c:\\users\\hp\\appdata\\local\\programs\\python\\python312\\lib\\site-packages (from selenium) (0.12.2)\n",
      "Requirement already satisfied: certifi>=2021.10.8 in c:\\users\\hp\\appdata\\local\\programs\\python\\python312\\lib\\site-packages (from selenium) (2024.7.4)\n",
      "Requirement already satisfied: typing_extensions~=4.9 in c:\\users\\hp\\appdata\\local\\programs\\python\\python312\\lib\\site-packages (from selenium) (4.13.2)\n",
      "Requirement already satisfied: websocket-client~=1.8 in c:\\users\\hp\\appdata\\local\\programs\\python\\python312\\lib\\site-packages (from selenium) (1.8.0)\n",
      "Requirement already satisfied: attrs>=23.2.0 in c:\\users\\hp\\appdata\\local\\programs\\python\\python312\\lib\\site-packages (from trio~=0.17->selenium) (24.2.0)\n",
      "Requirement already satisfied: sortedcontainers in c:\\users\\hp\\appdata\\local\\programs\\python\\python312\\lib\\site-packages (from trio~=0.17->selenium) (2.4.0)\n",
      "Requirement already satisfied: idna in c:\\users\\hp\\appdata\\local\\programs\\python\\python312\\lib\\site-packages (from trio~=0.17->selenium) (3.7)\n",
      "Requirement already satisfied: outcome in c:\\users\\hp\\appdata\\local\\programs\\python\\python312\\lib\\site-packages (from trio~=0.17->selenium) (1.3.0.post0)\n",
      "Requirement already satisfied: sniffio>=1.3.0 in c:\\users\\hp\\appdata\\local\\programs\\python\\python312\\lib\\site-packages (from trio~=0.17->selenium) (1.3.1)\n",
      "Requirement already satisfied: cffi>=1.14 in c:\\users\\hp\\appdata\\local\\programs\\python\\python312\\lib\\site-packages (from trio~=0.17->selenium) (1.17.0)\n",
      "Requirement already satisfied: wsproto>=0.14 in c:\\users\\hp\\appdata\\local\\programs\\python\\python312\\lib\\site-packages (from trio-websocket~=0.9->selenium) (1.2.0)\n",
      "Requirement already satisfied: pysocks!=1.5.7,<2.0,>=1.5.6 in c:\\users\\hp\\appdata\\local\\programs\\python\\python312\\lib\\site-packages (from urllib3[socks]<3,>=1.26->selenium) (1.7.1)\n",
      "Requirement already satisfied: pycparser in c:\\users\\hp\\appdata\\local\\programs\\python\\python312\\lib\\site-packages (from cffi>=1.14->trio~=0.17->selenium) (2.22)\n",
      "Requirement already satisfied: h11<1,>=0.9.0 in c:\\users\\hp\\appdata\\local\\programs\\python\\python312\\lib\\site-packages (from wsproto>=0.14->trio-websocket~=0.9->selenium) (0.14.0)\n"
     ]
    },
    {
     "name": "stderr",
     "output_type": "stream",
     "text": [
      "\n",
      "[notice] A new release of pip is available: 24.2 -> 25.1.1\n",
      "[notice] To update, run: python.exe -m pip install --upgrade pip\n"
     ]
    }
   ],
   "source": [
    "!pip install selenium"
   ]
  },
  {
   "cell_type": "code",
   "execution_count": 8,
   "id": "231c68b7-d8d4-4061-86f0-429115900640",
   "metadata": {},
   "outputs": [],
   "source": [
    "from selenium import webdriver\n",
    "from selenium.webdriver.common.by import By\n",
    "from time import sleep\n",
    "\n",
    "driver = webdriver.Chrome()\n",
    "driver.get(\"https://www.linkedin.com/jobs/search/?keywords=Data%20Scientist\")\n",
    "sleep(5)\n",
    "\n",
    "job_cards = driver.find_elements(By.CLASS_NAME, 'job-card-container')\n",
    "for job in job_cards[:3]:\n",
    "    title = job.find_element(By.CLASS_NAME, 'job-card-list__title').text\n",
    "    company = job.find_element(By.CLASS_NAME, 'job-card-container__company-name').text\n",
    "    print(f\"Title: {title} | Company: {company}\")\n",
    "\n",
    "driver.quit()\n"
   ]
  },
  {
   "cell_type": "code",
   "execution_count": null,
   "id": "4b90f7e9-6c1e-4eba-8a60-7f1d16264247",
   "metadata": {},
   "outputs": [],
   "source": [
    "pip install sentence-transformers"
   ]
  },
  {
   "cell_type": "code",
   "execution_count": null,
   "id": "f9924790-b8da-48cc-a936-ad66551c3c48",
   "metadata": {},
   "outputs": [],
   "source": [
    "from sentence_transformers import SentenceTransformer, util\n",
    "\n",
    "# Load model\n",
    "model = SentenceTransformer('all-MiniLM-L6-v2')\n",
    "\n",
    "# Your resume summary (you can load this from a .txt file too)\n",
    "resume_text = \"\"\"\n",
    "Experienced data analyst skilled in Python, SQL, Tableau, and machine learning.\n",
    "Worked on data pipelines, dashboards, and predictive analytics in the finance sector.\n",
    "\"\"\"\n",
    "\n",
    "# Sample LinkedIn job descriptions\n",
    "job_descriptions = [\n",
    "    \"We are hiring a data analyst with strong SQL and Tableau skills to work on real-time dashboards.\",\n",
    "    \"Looking for a machine learning engineer with experience in computer vision and TensorFlow.\",\n",
    "    \"Hiring a backend developer experienced in Node.js, APIs, and cloud deployments.\"\n",
    "]\n",
    "\n",
    "# Encode texts\n",
    "resume_embedding = model.encode(resume_text, convert_to_tensor=True)\n",
    "job_embeddings = model.encode(job_descriptions, convert_to_tensor=True)\n",
    "\n",
    "# Compute similarity\n",
    "similarities = util.cos_sim(resume_embedding, job_embeddings)[0]\n",
    "\n",
    "# Display results\n",
    "for i, score in enumerate(similarities):\n",
    "    print(f\"Job {i+1} Similarity Score: {score:.2f}\")\n",
    "    print(f\"> {job_descriptions[i]}\\n\")\n"
   ]
  },
  {
   "cell_type": "code",
   "execution_count": null,
   "id": "4c6d1f71-ef70-406d-a0f3-bc9b140fdb66",
   "metadata": {},
   "outputs": [],
   "source": []
  }
 ],
 "metadata": {
  "kernelspec": {
   "display_name": "Python 3 (ipykernel)",
   "language": "python",
   "name": "python3"
  },
  "language_info": {
   "codemirror_mode": {
    "name": "ipython",
    "version": 3
   },
   "file_extension": ".py",
   "mimetype": "text/x-python",
   "name": "python",
   "nbconvert_exporter": "python",
   "pygments_lexer": "ipython3",
   "version": "3.12.5"
  }
 },
 "nbformat": 4,
 "nbformat_minor": 5
}
